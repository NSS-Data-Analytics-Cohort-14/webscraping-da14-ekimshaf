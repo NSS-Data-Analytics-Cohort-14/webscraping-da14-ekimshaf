{
 "cells": [
  {
   "cell_type": "markdown",
   "id": "f9a88caa-a37c-4b60-be32-9c1cabe8f9df",
   "metadata": {
    "panel-layout": {
     "height": 51.140625,
     "visible": true,
     "width": 100
    }
   },
   "source": [
    "1. Start by performing a GET request on the url above and convert the response into a BeautifulSoup object.  \n"
   ]
  },
  {
   "cell_type": "code",
   "execution_count": 2,
   "id": "d7993111-28fe-4563-aaae-b1a231cae081",
   "metadata": {},
   "outputs": [],
   "source": [
    "import requests"
   ]
  },
  {
   "cell_type": "code",
   "execution_count": 3,
   "id": "db63af35-82f6-474c-83d6-29ee9128f817",
   "metadata": {},
   "outputs": [],
   "source": [
    "from bs4 import BeautifulSoup"
   ]
  },
  {
   "cell_type": "code",
   "execution_count": 4,
   "id": "22ed2865-2142-421d-a5c3-c210ddcb5fd5",
   "metadata": {},
   "outputs": [],
   "source": [
    "URL = 'https://realpython.github.io/fake-jobs/'\n",
    "\n",
    "response = requests.get(URL)"
   ]
  },
  {
   "cell_type": "code",
   "execution_count": 5,
   "id": "bc3184b3-be89-4a1f-bbb9-e7f0b6d8e17e",
   "metadata": {},
   "outputs": [],
   "source": [
    "soup = BeautifulSoup(response.text)"
   ]
  },
  {
   "cell_type": "code",
   "execution_count": 6,
   "id": "87bca679-61d4-4c09-84ff-1a6327ff843b",
   "metadata": {
    "panel-layout": {
     "height": 0,
     "visible": true,
     "width": 100
    }
   },
   "outputs": [],
   "source": [
    "#print(soup.prettify())"
   ]
  },
  {
   "cell_type": "code",
   "execution_count": 7,
   "id": "c0a64617-008f-4c3e-8faf-a4b1a1ccb7b7",
   "metadata": {
    "panel-layout": {
     "height": 27.140625,
     "visible": true,
     "width": 100
    }
   },
   "outputs": [
    {
     "data": {
      "text/plain": [
       "200"
      ]
     },
     "execution_count": 7,
     "metadata": {},
     "output_type": "execute_result"
    }
   ],
   "source": [
    "response.status_code"
   ]
  },
  {
   "cell_type": "markdown",
   "id": "2caa52e6-ad7e-4508-be4d-4ac5249ae0c8",
   "metadata": {
    "panel-layout": {
     "height": 68.28125,
     "visible": true,
     "width": 100
    }
   },
   "source": [
    "a. Use the .find method to find the tag containing the first job title (\"Senior Python Developer\"). Hint: can you find a tag type and/or a class that could be helpful for extracting this information? Extract the text from this title.  \n"
   ]
  },
  {
   "cell_type": "code",
   "execution_count": 9,
   "id": "f4390a9c-b316-4800-bd18-85914f3afc93",
   "metadata": {
    "panel-layout": {
     "height": 51.140625,
     "visible": true,
     "width": 100
    }
   },
   "outputs": [
    {
     "data": {
      "text/plain": [
       "'Senior Python Developer'"
      ]
     },
     "execution_count": 9,
     "metadata": {},
     "output_type": "execute_result"
    }
   ],
   "source": [
    "soup.find('h2').text"
   ]
  },
  {
   "cell_type": "markdown",
   "id": "155bfffa-5d53-4c4d-9795-bac78f3bc603",
   "metadata": {
    "panel-layout": {
     "height": 51.140625,
     "visible": true,
     "width": 100
    }
   },
   "source": [
    "b. Now, use what you did for the first title, but extract the job title for all jobs on this page. Store the results in a list.  \n"
   ]
  },
  {
   "cell_type": "code",
   "execution_count": 11,
   "id": "7c1c2f09-7668-4285-8188-e1ff4ec06203",
   "metadata": {
    "panel-layout": {
     "height": 0,
     "visible": true,
     "width": 100
    }
   },
   "outputs": [
    {
     "name": "stdout",
     "output_type": "stream",
     "text": [
      "['Senior Python Developer', 'Energy engineer', 'Legal executive', 'Fitness centre manager', 'Product manager', 'Medical technical officer', 'Physiological scientist', 'Textile designer', 'Television floor manager', 'Waste management officer', 'Software Engineer (Python)', 'Interpreter', 'Architect', 'Meteorologist', 'Audiological scientist', 'English as a second language teacher', 'Surgeon', 'Equities trader', 'Newspaper journalist', 'Materials engineer', 'Python Programmer (Entry-Level)', 'Product/process development scientist', 'Scientist, research (maths)', 'Ecologist', 'Materials engineer', 'Historic buildings inspector/conservation officer', 'Data scientist', 'Psychiatrist', 'Structural engineer', 'Immigration officer', 'Python Programmer (Entry-Level)', 'Neurosurgeon', 'Broadcast engineer', 'Make', 'Nurse, adult', 'Air broker', 'Editor, film/video', 'Production assistant, radio', 'Engineer, communications', 'Sales executive', 'Software Developer (Python)', 'Futures trader', 'Tour manager', 'Cytogeneticist', 'Designer, multimedia', 'Trade union research officer', 'Chemist, analytical', 'Programmer, multimedia', 'Engineer, broadcasting (operations)', 'Teacher, primary school', 'Python Developer', 'Manufacturing systems engineer', 'Producer, television/film/video', 'Scientist, forensic', 'Bonds trader', 'Editorial assistant', 'Photographer', 'Retail banker', 'Jewellery designer', 'Ophthalmologist', 'Back-End Web Developer (Python, Django)', 'Licensed conveyancer', 'Futures trader', 'Counselling psychologist', 'Insurance underwriter', 'Engineer, automotive', 'Producer, radio', 'Dispensing optician', 'Designer, fashion/clothing', 'Chartered loss adjuster', 'Back-End Web Developer (Python, Django)', 'Forest/woodland manager', 'Clinical cytogeneticist', 'Print production planner', 'Systems developer', 'Graphic designer', 'Writer', 'Field seismologist', 'Chief Strategy Officer', 'Air cabin crew', 'Python Programmer (Entry-Level)', 'Warden/ranger', 'Sports therapist', 'Arts development officer', 'Printmaker', 'Health and safety adviser', 'Manufacturing systems engineer', 'Programmer, applications', 'Medical physicist', 'Media planner', 'Software Developer (Python)', 'Surveyor, land/geomatics', 'Legal executive', 'Librarian, academic', 'Barrister', 'Museum/gallery exhibitions officer', 'Radiographer, diagnostic', 'Database administrator', 'Furniture designer', 'Ship broker']\n"
     ]
    }
   ],
   "source": [
    "job_titles = [h2.get_text(strip=True) for h2 in soup.find_all('h2')]\n",
    "print(job_titles)"
   ]
  },
  {
   "cell_type": "markdown",
   "id": "93fb5565-e2ad-43a8-bf87-09c0ec6c827e",
   "metadata": {
    "panel-layout": {
     "height": 68.28125,
     "visible": true,
     "width": 100
    }
   },
   "source": [
    "c. Finally, extract the companies, locations, and posting dates for each job. For example, the first job has a company of \"Payne, Roberts and Davis\", a location of \"Stewartbury, AA\", and a posting date of \"2021-04-08\". Ensure that the text that you extract is clean, meaning no extra spaces or other characters at the beginning or end.  \n"
   ]
  },
  {
   "cell_type": "code",
   "execution_count": 13,
   "id": "cdedd7e9-c2ad-4cda-9eb3-c35a44413e24",
   "metadata": {},
   "outputs": [
    {
     "name": "stdout",
     "output_type": "stream",
     "text": [
      "['Payne, Roberts and Davis', 'Vasquez-Davidson', 'Jackson, Chambers and Levy', 'Savage-Bradley', 'Ramirez Inc', 'Rogers-Yates', 'Kramer-Klein', 'Meyers-Johnson', 'Hughes-Williams', 'Jones, Williams and Villa', 'Garcia PLC', 'Gregory and Sons', 'Clark, Garcia and Sosa', 'Bush PLC', 'Salazar-Meyers', 'Parker, Murphy and Brooks', 'Cruz-Brown', 'Macdonald-Ferguson', 'Williams, Peterson and Rojas', 'Smith and Sons', 'Moss, Duncan and Allen', 'Gomez-Carroll', 'Manning, Welch and Herring', 'Lee, Gutierrez and Brown', 'Davis, Serrano and Cook', 'Smith LLC', 'Thomas Group', 'Silva-King', 'Pierce-Long', 'Walker-Simpson', 'Cooper and Sons', 'Donovan, Gonzalez and Figueroa', 'Morgan, Butler and Bennett', 'Snyder-Lee', 'Harris PLC', 'Washington PLC', 'Brown, Price and Campbell', 'Mcgee PLC', 'Dixon Inc', 'Thompson, Sheppard and Ward', 'Adams-Brewer', 'Schneider-Brady', 'Gonzales-Frank', 'Smith-Wong', 'Pierce-Herrera', 'Aguilar, Rivera and Quinn', 'Lowe, Barnes and Thomas', 'Lewis, Gonzalez and Vasquez', 'Taylor PLC', 'Oliver, Jones and Ramirez', 'Rivera and Sons', 'Garcia PLC', 'Johnson, Wells and Kramer', 'Gonzalez LLC', 'Morgan, White and Macdonald', 'Robinson-Fitzpatrick', 'Waters, Wilson and Hoover', 'Hill LLC', 'Li-Gregory', 'Fisher, Ryan and Coleman', 'Stewart-Alexander', 'Abbott and Sons', 'Bryant, Santana and Davenport', 'Smith PLC', 'Patterson-Singh', 'Martinez-Berry', 'May, Taylor and Fisher', 'Bailey, Owen and Thompson', 'Vasquez Ltd', 'Leblanc LLC', 'Jackson, Ali and Mckee', 'Blankenship, Knight and Powell', 'Patton, Haynes and Jones', 'Wood Inc', 'Collins Group', 'Flores-Nelson', 'Mitchell, Jones and Olson', 'Howard Group', 'Kramer-Edwards', 'Berry-Houston', 'Mathews Inc', 'Riley-Johnson', 'Spencer and Sons', 'Camacho-Sanchez', 'Oliver and Sons', 'Eaton PLC', 'Stanley-Frederick', 'Bradley LLC', 'Parker, Goodwin and Zavala', 'Kim-Miles', 'Moreno-Rodriguez', 'Brown-Ortiz', 'Hartman PLC', 'Brooks Inc', 'Washington-Castillo', 'Nguyen, Yoder and Petty', 'Holder LLC', 'Yates-Ferguson', 'Ortega-Lawrence', 'Fuentes, Walls and Castro']\n"
     ]
    }
   ],
   "source": [
    "company = [h3.get_text(strip=True) for h3 in soup.find_all('h3')]\n",
    "print(company)"
   ]
  },
  {
   "cell_type": "code",
   "execution_count": 14,
   "id": "00668856-0773-401e-afa4-412db66faa87",
   "metadata": {},
   "outputs": [
    {
     "name": "stdout",
     "output_type": "stream",
     "text": [
      "['Stewartbury, AA', 'Christopherville, AA', 'Port Ericaburgh, AA', 'East Seanview, AP', 'North Jamieview, AP', 'Davidville, AP', 'South Christopher, AE', 'Port Jonathan, AE', 'Osbornetown, AE', 'Scotttown, AP', 'Ericberg, AE', 'Ramireztown, AE', 'Figueroaview, AA', 'Kelseystad, AA', 'Williamsburgh, AE', 'Mitchellburgh, AE', 'West Jessicabury, AA', 'Maloneshire, AE', 'Johnsonton, AA', 'South Davidtown, AP', 'Port Sara, AE', 'Marktown, AA', 'Laurenland, AE', 'Lauraton, AP', 'South Tammyberg, AP', 'North Brandonville, AP', 'Port Robertfurt, AA', 'Burnettbury, AE', 'Herbertside, AA', 'Christopherport, AP', 'West Victor, AE', 'Port Aaron, AP', 'Loribury, AA', 'Angelastad, AP', 'Larrytown, AE', 'West Colin, AP', 'West Stephanie, AP', 'Laurentown, AP', 'Wrightberg, AP', 'Alberttown, AE', 'Brockburgh, AE', 'North Jason, AE', 'Arnoldhaven, AE', 'Lake Destiny, AP', 'South Timothyburgh, AP', 'New Jimmyton, AE', 'New Lucasbury, AP', 'Port Cory, AE', 'Gileston, AA', 'Cindyshire, AA', 'East Michaelfort, AA', 'Joybury, AE', 'Emmatown, AE', 'Colehaven, AP', 'Port Coryton, AE', 'Amyborough, AA', 'Reynoldsville, AA', 'Port Billy, AP', 'Adamburgh, AA', 'Wilsonmouth, AA', 'South Kimberly, AA', 'Benjaminland, AP', 'Zacharyport, AA', 'Port Devonville, AE', 'East Thomas, AE', 'New Jeffrey, AP', 'Davidside, AA', 'Jamesville, AA', 'New Kelly, AP', 'Lake Antonio, AA', 'New Elizabethside, AA', 'Millsbury, AE', 'Lloydton, AP', 'Port Jeremy, AA', 'New Elizabethtown, AA', 'Charlesstad, AE', 'Josephbury, AE', 'Seanfurt, AA', 'Williambury, AA', 'South Jorgeside, AP', 'Robertborough, AP', 'South Saratown, AP', 'Hullview, AA', 'Philipland, AP', 'North Patty, AE', 'North Stephen, AE', 'Stevensland, AP', 'Reyesstad, AE', 'Bellberg, AP', 'North Johnland, AE', 'Martinezburgh, AE', 'Joshuatown, AE', 'West Ericstad, AA', 'Tuckertown, AE', 'Perezton, AE', 'Lake Abigail, AE', 'Jacobshire, AP', 'Port Susan, AE', 'North Tiffany, AA', 'Michelleville, AP']\n"
     ]
    }
   ],
   "source": [
    "location = [p.get_text(strip=True) for p in soup.find_all('p', class_=\"location\")]\n",
    "print(location)"
   ]
  },
  {
   "cell_type": "code",
   "execution_count": 15,
   "id": "5d57f647-35ac-4792-ad7f-7bb7e2b0ddcb",
   "metadata": {},
   "outputs": [
    {
     "name": "stdout",
     "output_type": "stream",
     "text": [
      "['2021-04-08', '2021-04-08', '2021-04-08', '2021-04-08', '2021-04-08', '2021-04-08', '2021-04-08', '2021-04-08', '2021-04-08', '2021-04-08', '2021-04-08', '2021-04-08', '2021-04-08', '2021-04-08', '2021-04-08', '2021-04-08', '2021-04-08', '2021-04-08', '2021-04-08', '2021-04-08', '2021-04-08', '2021-04-08', '2021-04-08', '2021-04-08', '2021-04-08', '2021-04-08', '2021-04-08', '2021-04-08', '2021-04-08', '2021-04-08', '2021-04-08', '2021-04-08', '2021-04-08', '2021-04-08', '2021-04-08', '2021-04-08', '2021-04-08', '2021-04-08', '2021-04-08', '2021-04-08', '2021-04-08', '2021-04-08', '2021-04-08', '2021-04-08', '2021-04-08', '2021-04-08', '2021-04-08', '2021-04-08', '2021-04-08', '2021-04-08', '2021-04-08', '2021-04-08', '2021-04-08', '2021-04-08', '2021-04-08', '2021-04-08', '2021-04-08', '2021-04-08', '2021-04-08', '2021-04-08', '2021-04-08', '2021-04-08', '2021-04-08', '2021-04-08', '2021-04-08', '2021-04-08', '2021-04-08', '2021-04-08', '2021-04-08', '2021-04-08', '2021-04-08', '2021-04-08', '2021-04-08', '2021-04-08', '2021-04-08', '2021-04-08', '2021-04-08', '2021-04-08', '2021-04-08', '2021-04-08', '2021-04-08', '2021-04-08', '2021-04-08', '2021-04-08', '2021-04-08', '2021-04-08', '2021-04-08', '2021-04-08', '2021-04-08', '2021-04-08', '2021-04-08', '2021-04-08', '2021-04-08', '2021-04-08', '2021-04-08', '2021-04-08', '2021-04-08', '2021-04-08', '2021-04-08', '2021-04-08']\n"
     ]
    }
   ],
   "source": [
    "post_date = [time.get_text(strip=True) for time in soup.find_all('time')]\n",
    "print(post_date)"
   ]
  },
  {
   "cell_type": "markdown",
   "id": "ab4b4372-905f-4e06-aefb-6cb5de30de1b",
   "metadata": {},
   "source": [
    "d. Take the lists that you have created and combine them into a pandas DataFrame. "
   ]
  },
  {
   "cell_type": "code",
   "execution_count": 17,
   "id": "faa66a2b-c77c-4182-88c8-aa4afbd1361d",
   "metadata": {},
   "outputs": [],
   "source": [
    "import pandas as pd\n",
    "import io"
   ]
  },
  {
   "cell_type": "code",
   "execution_count": 18,
   "id": "ca3c062c-31e9-4fb1-ac12-abeb760280df",
   "metadata": {},
   "outputs": [
    {
     "data": {
      "text/html": [
       "<div>\n",
       "<style scoped>\n",
       "    .dataframe tbody tr th:only-of-type {\n",
       "        vertical-align: middle;\n",
       "    }\n",
       "\n",
       "    .dataframe tbody tr th {\n",
       "        vertical-align: top;\n",
       "    }\n",
       "\n",
       "    .dataframe thead th {\n",
       "        text-align: right;\n",
       "    }\n",
       "</style>\n",
       "<table border=\"1\" class=\"dataframe\">\n",
       "  <thead>\n",
       "    <tr style=\"text-align: right;\">\n",
       "      <th></th>\n",
       "      <th>Job Title</th>\n",
       "      <th>Company</th>\n",
       "      <th>Location</th>\n",
       "      <th>Date Posted</th>\n",
       "    </tr>\n",
       "  </thead>\n",
       "  <tbody>\n",
       "    <tr>\n",
       "      <th>0</th>\n",
       "      <td>Senior Python Developer</td>\n",
       "      <td>Payne, Roberts and Davis</td>\n",
       "      <td>Stewartbury, AA</td>\n",
       "      <td>2021-04-08</td>\n",
       "    </tr>\n",
       "    <tr>\n",
       "      <th>1</th>\n",
       "      <td>Energy engineer</td>\n",
       "      <td>Vasquez-Davidson</td>\n",
       "      <td>Christopherville, AA</td>\n",
       "      <td>2021-04-08</td>\n",
       "    </tr>\n",
       "    <tr>\n",
       "      <th>2</th>\n",
       "      <td>Legal executive</td>\n",
       "      <td>Jackson, Chambers and Levy</td>\n",
       "      <td>Port Ericaburgh, AA</td>\n",
       "      <td>2021-04-08</td>\n",
       "    </tr>\n",
       "    <tr>\n",
       "      <th>3</th>\n",
       "      <td>Fitness centre manager</td>\n",
       "      <td>Savage-Bradley</td>\n",
       "      <td>East Seanview, AP</td>\n",
       "      <td>2021-04-08</td>\n",
       "    </tr>\n",
       "    <tr>\n",
       "      <th>4</th>\n",
       "      <td>Product manager</td>\n",
       "      <td>Ramirez Inc</td>\n",
       "      <td>North Jamieview, AP</td>\n",
       "      <td>2021-04-08</td>\n",
       "    </tr>\n",
       "  </tbody>\n",
       "</table>\n",
       "</div>"
      ],
      "text/plain": [
       "                 Job Title                     Company              Location  \\\n",
       "0  Senior Python Developer    Payne, Roberts and Davis       Stewartbury, AA   \n",
       "1          Energy engineer            Vasquez-Davidson  Christopherville, AA   \n",
       "2          Legal executive  Jackson, Chambers and Levy   Port Ericaburgh, AA   \n",
       "3   Fitness centre manager              Savage-Bradley     East Seanview, AP   \n",
       "4          Product manager                 Ramirez Inc   North Jamieview, AP   \n",
       "\n",
       "  Date Posted  \n",
       "0  2021-04-08  \n",
       "1  2021-04-08  \n",
       "2  2021-04-08  \n",
       "3  2021-04-08  \n",
       "4  2021-04-08  "
      ]
     },
     "execution_count": 18,
     "metadata": {},
     "output_type": "execute_result"
    }
   ],
   "source": [
    "fake_jobs = pd.DataFrame({'Job Title': job_titles, 'Company': company, 'Location': location, 'Date Posted': post_date})\n",
    "fake_jobs.head()"
   ]
  },
  {
   "cell_type": "markdown",
   "id": "ddc9f0fe-3a97-4529-aaf9-0341af067f35",
   "metadata": {},
   "source": [
    "2. Next, add a column that contains the url for the \"Apply\" button. Try this in two ways.   \n",
    "    a. First, use the BeautifulSoup find_all method to extract the urls.  \n"
   ]
  },
  {
   "cell_type": "code",
   "execution_count": 48,
   "id": "7aa54391-03e8-43f0-83fe-6da320ef5fda",
   "metadata": {},
   "outputs": [],
   "source": [
    "import requests\n",
    "import re"
   ]
  },
  {
   "cell_type": "code",
   "execution_count": 72,
   "id": "94a4d7d6-5343-450a-8e32-080c49fe3df7",
   "metadata": {},
   "outputs": [
    {
     "name": "stdout",
     "output_type": "stream",
     "text": [
      "https://realpython.github.io/fake-jobs/jobs/senior-python-developer-0.html\n",
      "https://realpython.github.io/fake-jobs/jobs/energy-engineer-1.html\n",
      "https://realpython.github.io/fake-jobs/jobs/legal-executive-2.html\n",
      "https://realpython.github.io/fake-jobs/jobs/fitness-centre-manager-3.html\n",
      "https://realpython.github.io/fake-jobs/jobs/product-manager-4.html\n",
      "https://realpython.github.io/fake-jobs/jobs/medical-technical-officer-5.html\n",
      "https://realpython.github.io/fake-jobs/jobs/physiological-scientist-6.html\n",
      "https://realpython.github.io/fake-jobs/jobs/textile-designer-7.html\n",
      "https://realpython.github.io/fake-jobs/jobs/television-floor-manager-8.html\n",
      "https://realpython.github.io/fake-jobs/jobs/waste-management-officer-9.html\n",
      "https://realpython.github.io/fake-jobs/jobs/software-engineer-python-10.html\n",
      "https://realpython.github.io/fake-jobs/jobs/interpreter-11.html\n",
      "https://realpython.github.io/fake-jobs/jobs/architect-12.html\n",
      "https://realpython.github.io/fake-jobs/jobs/meteorologist-13.html\n",
      "https://realpython.github.io/fake-jobs/jobs/audiological-scientist-14.html\n",
      "https://realpython.github.io/fake-jobs/jobs/english-as-a-second-language-teacher-15.html\n",
      "https://realpython.github.io/fake-jobs/jobs/surgeon-16.html\n",
      "https://realpython.github.io/fake-jobs/jobs/equities-trader-17.html\n",
      "https://realpython.github.io/fake-jobs/jobs/newspaper-journalist-18.html\n",
      "https://realpython.github.io/fake-jobs/jobs/materials-engineer-19.html\n",
      "https://realpython.github.io/fake-jobs/jobs/python-programmer-entry-level-20.html\n",
      "https://realpython.github.io/fake-jobs/jobs/product-process-development-scientist-21.html\n",
      "https://realpython.github.io/fake-jobs/jobs/scientist-research-maths-22.html\n",
      "https://realpython.github.io/fake-jobs/jobs/ecologist-23.html\n",
      "https://realpython.github.io/fake-jobs/jobs/materials-engineer-24.html\n",
      "https://realpython.github.io/fake-jobs/jobs/historic-buildings-inspector-conservation-officer-25.html\n",
      "https://realpython.github.io/fake-jobs/jobs/data-scientist-26.html\n",
      "https://realpython.github.io/fake-jobs/jobs/psychiatrist-27.html\n",
      "https://realpython.github.io/fake-jobs/jobs/structural-engineer-28.html\n",
      "https://realpython.github.io/fake-jobs/jobs/immigration-officer-29.html\n",
      "https://realpython.github.io/fake-jobs/jobs/python-programmer-entry-level-30.html\n",
      "https://realpython.github.io/fake-jobs/jobs/neurosurgeon-31.html\n",
      "https://realpython.github.io/fake-jobs/jobs/broadcast-engineer-32.html\n",
      "https://realpython.github.io/fake-jobs/jobs/make-33.html\n",
      "https://realpython.github.io/fake-jobs/jobs/nurse-adult-34.html\n",
      "https://realpython.github.io/fake-jobs/jobs/air-broker-35.html\n",
      "https://realpython.github.io/fake-jobs/jobs/editor-film-video-36.html\n",
      "https://realpython.github.io/fake-jobs/jobs/production-assistant-radio-37.html\n",
      "https://realpython.github.io/fake-jobs/jobs/engineer-communications-38.html\n",
      "https://realpython.github.io/fake-jobs/jobs/sales-executive-39.html\n",
      "https://realpython.github.io/fake-jobs/jobs/software-developer-python-40.html\n",
      "https://realpython.github.io/fake-jobs/jobs/futures-trader-41.html\n",
      "https://realpython.github.io/fake-jobs/jobs/tour-manager-42.html\n",
      "https://realpython.github.io/fake-jobs/jobs/cytogeneticist-43.html\n",
      "https://realpython.github.io/fake-jobs/jobs/designer-multimedia-44.html\n",
      "https://realpython.github.io/fake-jobs/jobs/trade-union-research-officer-45.html\n",
      "https://realpython.github.io/fake-jobs/jobs/chemist-analytical-46.html\n",
      "https://realpython.github.io/fake-jobs/jobs/programmer-multimedia-47.html\n",
      "https://realpython.github.io/fake-jobs/jobs/engineer-broadcasting-operations-48.html\n",
      "https://realpython.github.io/fake-jobs/jobs/teacher-primary-school-49.html\n",
      "https://realpython.github.io/fake-jobs/jobs/python-developer-50.html\n",
      "https://realpython.github.io/fake-jobs/jobs/manufacturing-systems-engineer-51.html\n",
      "https://realpython.github.io/fake-jobs/jobs/producer-television-film-video-52.html\n",
      "https://realpython.github.io/fake-jobs/jobs/scientist-forensic-53.html\n",
      "https://realpython.github.io/fake-jobs/jobs/bonds-trader-54.html\n",
      "https://realpython.github.io/fake-jobs/jobs/editorial-assistant-55.html\n",
      "https://realpython.github.io/fake-jobs/jobs/photographer-56.html\n",
      "https://realpython.github.io/fake-jobs/jobs/retail-banker-57.html\n",
      "https://realpython.github.io/fake-jobs/jobs/jewellery-designer-58.html\n",
      "https://realpython.github.io/fake-jobs/jobs/ophthalmologist-59.html\n",
      "https://realpython.github.io/fake-jobs/jobs/back-end-web-developer-python-django-60.html\n",
      "https://realpython.github.io/fake-jobs/jobs/licensed-conveyancer-61.html\n",
      "https://realpython.github.io/fake-jobs/jobs/futures-trader-62.html\n",
      "https://realpython.github.io/fake-jobs/jobs/counselling-psychologist-63.html\n",
      "https://realpython.github.io/fake-jobs/jobs/insurance-underwriter-64.html\n",
      "https://realpython.github.io/fake-jobs/jobs/engineer-automotive-65.html\n",
      "https://realpython.github.io/fake-jobs/jobs/producer-radio-66.html\n",
      "https://realpython.github.io/fake-jobs/jobs/dispensing-optician-67.html\n",
      "https://realpython.github.io/fake-jobs/jobs/designer-fashion-clothing-68.html\n",
      "https://realpython.github.io/fake-jobs/jobs/chartered-loss-adjuster-69.html\n",
      "https://realpython.github.io/fake-jobs/jobs/back-end-web-developer-python-django-70.html\n",
      "https://realpython.github.io/fake-jobs/jobs/forest-woodland-manager-71.html\n",
      "https://realpython.github.io/fake-jobs/jobs/clinical-cytogeneticist-72.html\n",
      "https://realpython.github.io/fake-jobs/jobs/print-production-planner-73.html\n",
      "https://realpython.github.io/fake-jobs/jobs/systems-developer-74.html\n",
      "https://realpython.github.io/fake-jobs/jobs/graphic-designer-75.html\n",
      "https://realpython.github.io/fake-jobs/jobs/writer-76.html\n",
      "https://realpython.github.io/fake-jobs/jobs/field-seismologist-77.html\n",
      "https://realpython.github.io/fake-jobs/jobs/chief-strategy-officer-78.html\n",
      "https://realpython.github.io/fake-jobs/jobs/air-cabin-crew-79.html\n",
      "https://realpython.github.io/fake-jobs/jobs/python-programmer-entry-level-80.html\n",
      "https://realpython.github.io/fake-jobs/jobs/warden-ranger-81.html\n",
      "https://realpython.github.io/fake-jobs/jobs/sports-therapist-82.html\n",
      "https://realpython.github.io/fake-jobs/jobs/arts-development-officer-83.html\n",
      "https://realpython.github.io/fake-jobs/jobs/printmaker-84.html\n",
      "https://realpython.github.io/fake-jobs/jobs/health-and-safety-adviser-85.html\n",
      "https://realpython.github.io/fake-jobs/jobs/manufacturing-systems-engineer-86.html\n",
      "https://realpython.github.io/fake-jobs/jobs/programmer-applications-87.html\n",
      "https://realpython.github.io/fake-jobs/jobs/medical-physicist-88.html\n",
      "https://realpython.github.io/fake-jobs/jobs/media-planner-89.html\n",
      "https://realpython.github.io/fake-jobs/jobs/software-developer-python-90.html\n",
      "https://realpython.github.io/fake-jobs/jobs/surveyor-land-geomatics-91.html\n",
      "https://realpython.github.io/fake-jobs/jobs/legal-executive-92.html\n",
      "https://realpython.github.io/fake-jobs/jobs/librarian-academic-93.html\n",
      "https://realpython.github.io/fake-jobs/jobs/barrister-94.html\n",
      "https://realpython.github.io/fake-jobs/jobs/museum-gallery-exhibitions-officer-95.html\n",
      "https://realpython.github.io/fake-jobs/jobs/radiographer-diagnostic-96.html\n",
      "https://realpython.github.io/fake-jobs/jobs/database-administrator-97.html\n",
      "https://realpython.github.io/fake-jobs/jobs/furniture-designer-98.html\n",
      "https://realpython.github.io/fake-jobs/jobs/ship-broker-99.html\n"
     ]
    }
   ],
   "source": [
    "#apply = [a.get_text(strip=True) for a in soup.find_all('a', string = 'Apply')]\n",
    "#print(apply)\n",
    "# codes source: https://www.geeksforgeeks.org/beautifulsoup-scraping-link-from-html/\n",
    "\n",
    "links = []\n",
    "for link in soup.find_all('a', attrs={'href': re.compile(\"^https://\")}, string = 'Apply'):\n",
    "    links.append(link.get('href'))\n",
    "    print(link.get('href'))"
   ]
  },
  {
   "cell_type": "code",
   "execution_count": 74,
   "id": "1616a915-0580-436e-89e2-7fa7c5212f67",
   "metadata": {},
   "outputs": [
    {
     "data": {
      "text/html": [
       "<div>\n",
       "<style scoped>\n",
       "    .dataframe tbody tr th:only-of-type {\n",
       "        vertical-align: middle;\n",
       "    }\n",
       "\n",
       "    .dataframe tbody tr th {\n",
       "        vertical-align: top;\n",
       "    }\n",
       "\n",
       "    .dataframe thead th {\n",
       "        text-align: right;\n",
       "    }\n",
       "</style>\n",
       "<table border=\"1\" class=\"dataframe\">\n",
       "  <thead>\n",
       "    <tr style=\"text-align: right;\">\n",
       "      <th></th>\n",
       "      <th>Job Title</th>\n",
       "      <th>Company</th>\n",
       "      <th>Location</th>\n",
       "      <th>Date Posted</th>\n",
       "      <th>Links</th>\n",
       "    </tr>\n",
       "  </thead>\n",
       "  <tbody>\n",
       "    <tr>\n",
       "      <th>0</th>\n",
       "      <td>Senior Python Developer</td>\n",
       "      <td>Payne, Roberts and Davis</td>\n",
       "      <td>Stewartbury, AA</td>\n",
       "      <td>2021-04-08</td>\n",
       "      <td>https://realpython.github.io/fake-jobs/jobs/se...</td>\n",
       "    </tr>\n",
       "    <tr>\n",
       "      <th>1</th>\n",
       "      <td>Energy engineer</td>\n",
       "      <td>Vasquez-Davidson</td>\n",
       "      <td>Christopherville, AA</td>\n",
       "      <td>2021-04-08</td>\n",
       "      <td>https://realpython.github.io/fake-jobs/jobs/en...</td>\n",
       "    </tr>\n",
       "    <tr>\n",
       "      <th>2</th>\n",
       "      <td>Legal executive</td>\n",
       "      <td>Jackson, Chambers and Levy</td>\n",
       "      <td>Port Ericaburgh, AA</td>\n",
       "      <td>2021-04-08</td>\n",
       "      <td>https://realpython.github.io/fake-jobs/jobs/le...</td>\n",
       "    </tr>\n",
       "    <tr>\n",
       "      <th>3</th>\n",
       "      <td>Fitness centre manager</td>\n",
       "      <td>Savage-Bradley</td>\n",
       "      <td>East Seanview, AP</td>\n",
       "      <td>2021-04-08</td>\n",
       "      <td>https://realpython.github.io/fake-jobs/jobs/fi...</td>\n",
       "    </tr>\n",
       "    <tr>\n",
       "      <th>4</th>\n",
       "      <td>Product manager</td>\n",
       "      <td>Ramirez Inc</td>\n",
       "      <td>North Jamieview, AP</td>\n",
       "      <td>2021-04-08</td>\n",
       "      <td>https://realpython.github.io/fake-jobs/jobs/pr...</td>\n",
       "    </tr>\n",
       "  </tbody>\n",
       "</table>\n",
       "</div>"
      ],
      "text/plain": [
       "                 Job Title                     Company              Location  \\\n",
       "0  Senior Python Developer    Payne, Roberts and Davis       Stewartbury, AA   \n",
       "1          Energy engineer            Vasquez-Davidson  Christopherville, AA   \n",
       "2          Legal executive  Jackson, Chambers and Levy   Port Ericaburgh, AA   \n",
       "3   Fitness centre manager              Savage-Bradley     East Seanview, AP   \n",
       "4          Product manager                 Ramirez Inc   North Jamieview, AP   \n",
       "\n",
       "  Date Posted                                              Links  \n",
       "0  2021-04-08  https://realpython.github.io/fake-jobs/jobs/se...  \n",
       "1  2021-04-08  https://realpython.github.io/fake-jobs/jobs/en...  \n",
       "2  2021-04-08  https://realpython.github.io/fake-jobs/jobs/le...  \n",
       "3  2021-04-08  https://realpython.github.io/fake-jobs/jobs/fi...  \n",
       "4  2021-04-08  https://realpython.github.io/fake-jobs/jobs/pr...  "
      ]
     },
     "execution_count": 74,
     "metadata": {},
     "output_type": "execute_result"
    }
   ],
   "source": [
    "#adding the column to the df\n",
    "fake_jobs['Links'] = links\n",
    "fake_jobs.head()"
   ]
  },
  {
   "cell_type": "markdown",
   "id": "50358301-0699-462b-934e-6b9c05b82f3d",
   "metadata": {},
   "source": [
    " b. Next, get those same urls in a different way. Examine the urls and see if you can spot the pattern of how they are constructed. Then, build the url using the elements you have already extracted. Ensure that the urls that you created match those that you extracted using BeautifulSoup. Warning: You will need to do some string cleaning and prep in constructing the urls this way. For example, look carefully at the urls for the \"Software Engineer (Python)\" job and the \"Scientist, research (maths)\" job.\n"
   ]
  },
  {
   "cell_type": "code",
   "execution_count": null,
   "id": "c080cb9a-4180-4c3d-8956-1ba0f5c3c4f0",
   "metadata": {},
   "outputs": [],
   "source": []
  },
  {
   "cell_type": "markdown",
   "id": "5cd14615-d874-4f64-acef-298bb707fe56",
   "metadata": {},
   "source": [
    "3. Finally, we want to get the job description text for each job.  \n",
    "    a. Start by looking at the page for the first job, https://realpython.github.io/fake-jobs/jobs/senior-python-developer-0.html. Using BeautifulSoup, extract the job description paragraph.  \n"
   ]
  },
  {
   "cell_type": "code",
   "execution_count": 77,
   "id": "a875e539-ff4b-4e76-8867-a3f4dd05f774",
   "metadata": {},
   "outputs": [],
   "source": [
    "\n",
    "job_URL = 'https://realpython.github.io/fake-jobs/jobs/senior-python-developer-0.html'\n",
    "\n",
    "response = requests.get(job_URL)"
   ]
  },
  {
   "cell_type": "code",
   "execution_count": 79,
   "id": "bb648abb-def7-415d-a1b2-dd80d402ba33",
   "metadata": {},
   "outputs": [],
   "source": [
    "soup = BeautifulSoup(response.text)"
   ]
  },
  {
   "cell_type": "code",
   "execution_count": 81,
   "id": "17bdc202-a3af-48f4-bc96-41db96a09c7f",
   "metadata": {},
   "outputs": [
    {
     "data": {
      "text/plain": [
       "200"
      ]
     },
     "execution_count": 81,
     "metadata": {},
     "output_type": "execute_result"
    }
   ],
   "source": [
    "response.status_code"
   ]
  },
  {
   "cell_type": "code",
   "execution_count": 83,
   "id": "f044d4e2-db98-44b7-95d0-95ba3da6cf85",
   "metadata": {},
   "outputs": [
    {
     "name": "stdout",
     "output_type": "stream",
     "text": [
      "<!DOCTYPE html>\n",
      "<html>\n",
      " <head>\n",
      "  <meta charset=\"utf-8\"/>\n",
      "  <meta content=\"width=device-width, initial-scale=1\" name=\"viewport\"/>\n",
      "  <title>\n",
      "   Fake Python\n",
      "  </title>\n",
      "  <link href=\"https://cdn.jsdelivr.net/npm/bulma@0.9.2/css/bulma.min.css\" rel=\"stylesheet\"/>\n",
      " </head>\n",
      " <body>\n",
      "  <section class=\"section\">\n",
      "   <div class=\"container mb-5\">\n",
      "    <h1 class=\"title is-1\">\n",
      "     Fake Python\n",
      "    </h1>\n",
      "    <p class=\"subtitle is-3\">\n",
      "     Fake Jobs for Your Web Scraping Journey\n",
      "    </p>\n",
      "   </div>\n",
      "   <div class=\"container\">\n",
      "    <div class=\"columns is-multiline\" id=\"ResultsContainer\">\n",
      "     <div class=\"box\">\n",
      "      <h1 class=\"title is-2\">\n",
      "       Senior Python Developer\n",
      "      </h1>\n",
      "      <h2 class=\"subtitle is-4 company\">\n",
      "       Payne, Roberts and Davis\n",
      "      </h2>\n",
      "      <div class=\"content\">\n",
      "       <p>\n",
      "        Professional asset web application environmentally friendly detail-oriented asset. Coordinate educational dashboard agile employ growth opportunity. Company programs CSS explore role. Html educational grit web application. Oversea SCRUM talented support. Web Application fast-growing communities inclusive programs job CSS. Css discussions growth opportunity explore open-minded oversee. Css Python environmentally friendly collaborate inclusive role. Django no experience oversee dashboard environmentally friendly willing to learn programs. Programs open-minded programs asset.\n",
      "       </p>\n",
      "       <p id=\"location\">\n",
      "        <strong>\n",
      "         Location:\n",
      "        </strong>\n",
      "        Stewartbury, AA\n",
      "       </p>\n",
      "       <p id=\"date\">\n",
      "        <strong>\n",
      "         Posted:\n",
      "        </strong>\n",
      "        2021-04-08\n",
      "       </p>\n",
      "      </div>\n",
      "     </div>\n",
      "    </div>\n",
      "   </div>\n",
      "  </section>\n",
      " </body>\n",
      "</html>\n",
      "\n"
     ]
    }
   ],
   "source": [
    "print(soup.prettify())"
   ]
  },
  {
   "cell_type": "code",
   "execution_count": 105,
   "id": "4e710d57-f14a-4787-bb81-271c6eb08d12",
   "metadata": {},
   "outputs": [
    {
     "data": {
      "text/plain": [
       "<p>Professional asset web application environmentally friendly detail-oriented asset. Coordinate educational dashboard agile employ growth opportunity. Company programs CSS explore role. Html educational grit web application. Oversea SCRUM talented support. Web Application fast-growing communities inclusive programs job CSS. Css discussions growth opportunity explore open-minded oversee. Css Python environmentally friendly collaborate inclusive role. Django no experience oversee dashboard environmentally friendly willing to learn programs. Programs open-minded programs asset.</p>"
      ]
     },
     "execution_count": 105,
     "metadata": {},
     "output_type": "execute_result"
    }
   ],
   "source": [
    "soup.find_all('p')[1]"
   ]
  },
  {
   "cell_type": "code",
   "execution_count": null,
   "id": "98cb1737-788f-46b7-9930-3c52ea8bdd52",
   "metadata": {},
   "outputs": [],
   "source": []
  }
 ],
 "metadata": {
  "kernelspec": {
   "display_name": "Python [conda env:base] *",
   "language": "python",
   "name": "conda-base-py"
  },
  "language_info": {
   "codemirror_mode": {
    "name": "ipython",
    "version": 3
   },
   "file_extension": ".py",
   "mimetype": "text/x-python",
   "name": "python",
   "nbconvert_exporter": "python",
   "pygments_lexer": "ipython3",
   "version": "3.12.7"
  },
  "panel-cell-order": [
   "f9a88caa-a37c-4b60-be32-9c1cabe8f9df",
   "87bca679-61d4-4c09-84ff-1a6327ff843b",
   "c0a64617-008f-4c3e-8faf-a4b1a1ccb7b7",
   "2caa52e6-ad7e-4508-be4d-4ac5249ae0c8",
   "f4390a9c-b316-4800-bd18-85914f3afc93",
   "155bfffa-5d53-4c4d-9795-bac78f3bc603",
   "7c1c2f09-7668-4285-8188-e1ff4ec06203",
   "93fb5565-e2ad-43a8-bf87-09c0ec6c827e"
  ]
 },
 "nbformat": 4,
 "nbformat_minor": 5
}
